{
 "cells": [
  {
   "cell_type": "code",
   "execution_count": 3,
   "metadata": {},
   "outputs": [
    {
     "name": "stdout",
     "output_type": "stream",
     "text": [
      "nx: 2.0\n"
     ]
    }
   ],
   "source": [
    "import numpy as np\n",
    "import pandas as pd\n",
    "import networkx as nx\n",
    "%matplotlib inline\n",
    "import matplotlib.pyplot as plt\n",
    "\n",
    "# Download data: https://www.kaggle.com/manoelribeiro/hateful-users-on-twitter\n",
    "\n",
    "print 'nx:', nx.__version__"
   ]
  },
  {
   "cell_type": "code",
   "execution_count": 3,
   "metadata": {
    "collapsed": true
   },
   "outputs": [],
   "source": [
    "node_file = 'pubmed_data/Pubmed-Diabetes.NODE.paper.tab'\n",
    "edge_file = 'pubmed_data/Pubmed-Diabetes.DIRECTED.cites.tab'"
   ]
  },
  {
   "cell_type": "code",
   "execution_count": 21,
   "metadata": {},
   "outputs": [],
   "source": [
    "def load_node_data(node_file):\n",
    "    \n",
    "    data = None\n",
    "    \n",
    "    with open(node_file) as f:\n",
    "        f.readline() #dummy line\n",
    "        meta = f.readline().split('\\t')[1:-1]\n",
    "        meta_keys = [s.split(':')[1] for s in meta]\n",
    "        meta_values = range(len(meta_keys))\n",
    "        meta_dict = dict(zip(meta_keys, meta_values))\n",
    "        dim = len(meta_dict)\n",
    "\n",
    "        features = np.empty((0, dim), np.float)\n",
    "        nodes = []\n",
    "        labels = []\n",
    "\n",
    "        for line in f:\n",
    "            tokens = line.split('\\t')\n",
    "\n",
    "            node = int(tokens[0])\n",
    "            nodes.append(node)\n",
    "            \n",
    "            label = tokens[1].split('=')[1]\n",
    "            labels.append(label)\n",
    "            \n",
    "            feat_vals = tokens[2:-1]\n",
    "            feat_vect = np.zeros(shape=(1, dim), dtype=np.float)\n",
    "\n",
    "            for feat_val in feat_vals:\n",
    "                feat, val = feat_val.split('=')\n",
    "                feat_ind = meta_dict[feat]\n",
    "                feat_vect[0][feat_ind] = val\n",
    "\n",
    "            features = np.append(features, feat_vect, axis=0)\n",
    "\n",
    "        data = (np.array(nodes), np.array(labels), features)\n",
    "        \n",
    "    return data"
   ]
  },
  {
   "cell_type": "code",
   "execution_count": 22,
   "metadata": {},
   "outputs": [],
   "source": [
    "nodes, labels, features = load_node_data(node_file)"
   ]
  },
  {
   "cell_type": "code",
   "execution_count": 23,
   "metadata": {},
   "outputs": [
    {
     "data": {
      "text/plain": [
       "(19717, 500)"
      ]
     },
     "execution_count": 23,
     "metadata": {},
     "output_type": "execute_result"
    }
   ],
   "source": [
    "features.shape"
   ]
  },
  {
   "cell_type": "code",
   "execution_count": 24,
   "metadata": {},
   "outputs": [
    {
     "name": "stdout",
     "output_type": "stream",
     "text": [
      "(19717,) (19717,) (19717, 500)\n"
     ]
    }
   ],
   "source": [
    "print nodes.shape, labels.shape, features.shape"
   ]
  },
  {
   "cell_type": "code",
   "execution_count": 27,
   "metadata": {
    "collapsed": true
   },
   "outputs": [],
   "source": [
    "def load_edge_data(edge_file):\n",
    "    \n",
    "    edges = np.empty((0, 2), int)\n",
    "\n",
    "    with open(edge_file) as f:\n",
    "        f.readline() #dummy line\n",
    "        f.readline() #dummy line\n",
    "\n",
    "        for line in f:\n",
    "            tokens = line.split('\\t')\n",
    "            source = int(tokens[1].split(':')[1])\n",
    "            target = int(tokens[3].split(':')[1])\n",
    "            \n",
    "            edge_vect = np.zeros(shape=(1, 2), dtype=np.int)\n",
    "            edge_vect[0][0] = source\n",
    "            edge_vect[0][1] = target\n",
    "            \n",
    "            edges = np.append(edges, edge_vect, axis=0)\n",
    "\n",
    "    return edges"
   ]
  },
  {
   "cell_type": "code",
   "execution_count": 28,
   "metadata": {},
   "outputs": [
    {
     "name": "stdout",
     "output_type": "stream",
     "text": [
      "(44338, 2)\n"
     ]
    }
   ],
   "source": [
    "edges = load_edge_data(edge_file)\n",
    "print edges.shape"
   ]
  },
  {
   "cell_type": "code",
   "execution_count": 29,
   "metadata": {},
   "outputs": [
    {
     "name": "stdout",
     "output_type": "stream",
     "text": [
      "(19717, 2)\n"
     ]
    }
   ],
   "source": [
    "node_label = pd.DataFrame()\n",
    "node_label['node'] = nodes\n",
    "node_label['label'] = labels\n",
    "\n",
    "print node_label.shape"
   ]
  },
  {
   "cell_type": "code",
   "execution_count": 30,
   "metadata": {},
   "outputs": [
    {
     "name": "stdout",
     "output_type": "stream",
     "text": [
      "(19717, 501) (19717,)\n"
     ]
    }
   ],
   "source": [
    "index = np.arange(features.shape[0])\n",
    "col_names = ['feature'+str(i) for i in range(features.shape[1])]\n",
    "columns = np.array(col_names)\n",
    "\n",
    "node_features = pd.DataFrame(data=features, index=index, columns=columns)\n",
    "node_features['node'] = nodes\n",
    "node_features = node_features[['node'] + col_names]\n",
    "\n",
    "print node_features.shape, nodes.shape"
   ]
  },
  {
   "cell_type": "code",
   "execution_count": 31,
   "metadata": {},
   "outputs": [
    {
     "data": {
      "text/html": [
       "<div>\n",
       "<style>\n",
       "    .dataframe thead tr:only-child th {\n",
       "        text-align: right;\n",
       "    }\n",
       "\n",
       "    .dataframe thead th {\n",
       "        text-align: left;\n",
       "    }\n",
       "\n",
       "    .dataframe tbody tr th {\n",
       "        vertical-align: top;\n",
       "    }\n",
       "</style>\n",
       "<table border=\"1\" class=\"dataframe\">\n",
       "  <thead>\n",
       "    <tr style=\"text-align: right;\">\n",
       "      <th></th>\n",
       "      <th>node</th>\n",
       "      <th>feature0</th>\n",
       "      <th>feature1</th>\n",
       "      <th>feature2</th>\n",
       "      <th>feature3</th>\n",
       "      <th>feature4</th>\n",
       "      <th>feature5</th>\n",
       "      <th>feature6</th>\n",
       "      <th>feature7</th>\n",
       "      <th>feature8</th>\n",
       "      <th>...</th>\n",
       "      <th>feature490</th>\n",
       "      <th>feature491</th>\n",
       "      <th>feature492</th>\n",
       "      <th>feature493</th>\n",
       "      <th>feature494</th>\n",
       "      <th>feature495</th>\n",
       "      <th>feature496</th>\n",
       "      <th>feature497</th>\n",
       "      <th>feature498</th>\n",
       "      <th>feature499</th>\n",
       "    </tr>\n",
       "  </thead>\n",
       "  <tbody>\n",
       "    <tr>\n",
       "      <th>0</th>\n",
       "      <td>12187484</td>\n",
       "      <td>0.093935</td>\n",
       "      <td>0.028698</td>\n",
       "      <td>0.011760</td>\n",
       "      <td>0.019375</td>\n",
       "      <td>0.063161</td>\n",
       "      <td>0.170891</td>\n",
       "      <td>0.067702</td>\n",
       "      <td>0.017555</td>\n",
       "      <td>0.098402</td>\n",
       "      <td>...</td>\n",
       "      <td>0.0</td>\n",
       "      <td>0.0</td>\n",
       "      <td>0.0</td>\n",
       "      <td>0.0</td>\n",
       "      <td>0.0</td>\n",
       "      <td>0.0</td>\n",
       "      <td>0.0</td>\n",
       "      <td>0.0</td>\n",
       "      <td>0.0</td>\n",
       "      <td>0.0</td>\n",
       "    </tr>\n",
       "    <tr>\n",
       "      <th>1</th>\n",
       "      <td>2344352</td>\n",
       "      <td>0.023618</td>\n",
       "      <td>0.000000</td>\n",
       "      <td>0.014784</td>\n",
       "      <td>0.000000</td>\n",
       "      <td>0.000000</td>\n",
       "      <td>0.000000</td>\n",
       "      <td>0.000000</td>\n",
       "      <td>0.000000</td>\n",
       "      <td>0.030926</td>\n",
       "      <td>...</td>\n",
       "      <td>0.0</td>\n",
       "      <td>0.0</td>\n",
       "      <td>0.0</td>\n",
       "      <td>0.0</td>\n",
       "      <td>0.0</td>\n",
       "      <td>0.0</td>\n",
       "      <td>0.0</td>\n",
       "      <td>0.0</td>\n",
       "      <td>0.0</td>\n",
       "      <td>0.0</td>\n",
       "    </tr>\n",
       "    <tr>\n",
       "      <th>2</th>\n",
       "      <td>14654069</td>\n",
       "      <td>0.102263</td>\n",
       "      <td>0.000000</td>\n",
       "      <td>0.010669</td>\n",
       "      <td>0.000000</td>\n",
       "      <td>0.000000</td>\n",
       "      <td>0.000000</td>\n",
       "      <td>0.000000</td>\n",
       "      <td>0.000000</td>\n",
       "      <td>0.044636</td>\n",
       "      <td>...</td>\n",
       "      <td>0.0</td>\n",
       "      <td>0.0</td>\n",
       "      <td>0.0</td>\n",
       "      <td>0.0</td>\n",
       "      <td>0.0</td>\n",
       "      <td>0.0</td>\n",
       "      <td>0.0</td>\n",
       "      <td>0.0</td>\n",
       "      <td>0.0</td>\n",
       "      <td>0.0</td>\n",
       "    </tr>\n",
       "    <tr>\n",
       "      <th>3</th>\n",
       "      <td>16443886</td>\n",
       "      <td>0.000000</td>\n",
       "      <td>0.000000</td>\n",
       "      <td>0.000000</td>\n",
       "      <td>0.000000</td>\n",
       "      <td>0.000000</td>\n",
       "      <td>0.000000</td>\n",
       "      <td>0.000000</td>\n",
       "      <td>0.000000</td>\n",
       "      <td>0.000000</td>\n",
       "      <td>...</td>\n",
       "      <td>0.0</td>\n",
       "      <td>0.0</td>\n",
       "      <td>0.0</td>\n",
       "      <td>0.0</td>\n",
       "      <td>0.0</td>\n",
       "      <td>0.0</td>\n",
       "      <td>0.0</td>\n",
       "      <td>0.0</td>\n",
       "      <td>0.0</td>\n",
       "      <td>0.0</td>\n",
       "    </tr>\n",
       "    <tr>\n",
       "      <th>4</th>\n",
       "      <td>2684155</td>\n",
       "      <td>0.030616</td>\n",
       "      <td>0.000000</td>\n",
       "      <td>0.000000</td>\n",
       "      <td>0.000000</td>\n",
       "      <td>0.000000</td>\n",
       "      <td>0.000000</td>\n",
       "      <td>0.000000</td>\n",
       "      <td>0.000000</td>\n",
       "      <td>0.080179</td>\n",
       "      <td>...</td>\n",
       "      <td>0.0</td>\n",
       "      <td>0.0</td>\n",
       "      <td>0.0</td>\n",
       "      <td>0.0</td>\n",
       "      <td>0.0</td>\n",
       "      <td>0.0</td>\n",
       "      <td>0.0</td>\n",
       "      <td>0.0</td>\n",
       "      <td>0.0</td>\n",
       "      <td>0.0</td>\n",
       "    </tr>\n",
       "    <tr>\n",
       "      <th>5</th>\n",
       "      <td>15032912</td>\n",
       "      <td>0.116897</td>\n",
       "      <td>0.000000</td>\n",
       "      <td>0.000000</td>\n",
       "      <td>0.000000</td>\n",
       "      <td>0.000000</td>\n",
       "      <td>0.000000</td>\n",
       "      <td>0.000000</td>\n",
       "      <td>0.005201</td>\n",
       "      <td>0.000000</td>\n",
       "      <td>...</td>\n",
       "      <td>0.0</td>\n",
       "      <td>0.0</td>\n",
       "      <td>0.0</td>\n",
       "      <td>0.0</td>\n",
       "      <td>0.0</td>\n",
       "      <td>0.0</td>\n",
       "      <td>0.0</td>\n",
       "      <td>0.0</td>\n",
       "      <td>0.0</td>\n",
       "      <td>0.0</td>\n",
       "    </tr>\n",
       "    <tr>\n",
       "      <th>6</th>\n",
       "      <td>17988185</td>\n",
       "      <td>0.000000</td>\n",
       "      <td>0.000000</td>\n",
       "      <td>0.007445</td>\n",
       "      <td>0.000000</td>\n",
       "      <td>0.000000</td>\n",
       "      <td>0.000000</td>\n",
       "      <td>0.000000</td>\n",
       "      <td>0.011114</td>\n",
       "      <td>0.000000</td>\n",
       "      <td>...</td>\n",
       "      <td>0.0</td>\n",
       "      <td>0.0</td>\n",
       "      <td>0.0</td>\n",
       "      <td>0.0</td>\n",
       "      <td>0.0</td>\n",
       "      <td>0.0</td>\n",
       "      <td>0.0</td>\n",
       "      <td>0.0</td>\n",
       "      <td>0.0</td>\n",
       "      <td>0.0</td>\n",
       "    </tr>\n",
       "    <tr>\n",
       "      <th>7</th>\n",
       "      <td>9834350</td>\n",
       "      <td>0.000000</td>\n",
       "      <td>0.000000</td>\n",
       "      <td>0.000000</td>\n",
       "      <td>0.000000</td>\n",
       "      <td>0.000000</td>\n",
       "      <td>0.000000</td>\n",
       "      <td>0.000000</td>\n",
       "      <td>0.000000</td>\n",
       "      <td>0.000000</td>\n",
       "      <td>...</td>\n",
       "      <td>0.0</td>\n",
       "      <td>0.0</td>\n",
       "      <td>0.0</td>\n",
       "      <td>0.0</td>\n",
       "      <td>0.0</td>\n",
       "      <td>0.0</td>\n",
       "      <td>0.0</td>\n",
       "      <td>0.0</td>\n",
       "      <td>0.0</td>\n",
       "      <td>0.0</td>\n",
       "    </tr>\n",
       "    <tr>\n",
       "      <th>8</th>\n",
       "      <td>16230722</td>\n",
       "      <td>0.000000</td>\n",
       "      <td>0.010479</td>\n",
       "      <td>0.004294</td>\n",
       "      <td>0.000000</td>\n",
       "      <td>0.000000</td>\n",
       "      <td>0.000000</td>\n",
       "      <td>0.000000</td>\n",
       "      <td>0.004273</td>\n",
       "      <td>0.000000</td>\n",
       "      <td>...</td>\n",
       "      <td>0.0</td>\n",
       "      <td>0.0</td>\n",
       "      <td>0.0</td>\n",
       "      <td>0.0</td>\n",
       "      <td>0.0</td>\n",
       "      <td>0.0</td>\n",
       "      <td>0.0</td>\n",
       "      <td>0.0</td>\n",
       "      <td>0.0</td>\n",
       "      <td>0.0</td>\n",
       "    </tr>\n",
       "    <tr>\n",
       "      <th>9</th>\n",
       "      <td>3542527</td>\n",
       "      <td>0.000000</td>\n",
       "      <td>0.000000</td>\n",
       "      <td>0.027970</td>\n",
       "      <td>0.000000</td>\n",
       "      <td>0.000000</td>\n",
       "      <td>0.000000</td>\n",
       "      <td>0.000000</td>\n",
       "      <td>0.013917</td>\n",
       "      <td>0.000000</td>\n",
       "      <td>...</td>\n",
       "      <td>0.0</td>\n",
       "      <td>0.0</td>\n",
       "      <td>0.0</td>\n",
       "      <td>0.0</td>\n",
       "      <td>0.0</td>\n",
       "      <td>0.0</td>\n",
       "      <td>0.0</td>\n",
       "      <td>0.0</td>\n",
       "      <td>0.0</td>\n",
       "      <td>0.0</td>\n",
       "    </tr>\n",
       "  </tbody>\n",
       "</table>\n",
       "<p>10 rows × 501 columns</p>\n",
       "</div>"
      ],
      "text/plain": [
       "       node  feature0  feature1  feature2  feature3  feature4  feature5  \\\n",
       "0  12187484  0.093935  0.028698  0.011760  0.019375  0.063161  0.170891   \n",
       "1   2344352  0.023618  0.000000  0.014784  0.000000  0.000000  0.000000   \n",
       "2  14654069  0.102263  0.000000  0.010669  0.000000  0.000000  0.000000   \n",
       "3  16443886  0.000000  0.000000  0.000000  0.000000  0.000000  0.000000   \n",
       "4   2684155  0.030616  0.000000  0.000000  0.000000  0.000000  0.000000   \n",
       "5  15032912  0.116897  0.000000  0.000000  0.000000  0.000000  0.000000   \n",
       "6  17988185  0.000000  0.000000  0.007445  0.000000  0.000000  0.000000   \n",
       "7   9834350  0.000000  0.000000  0.000000  0.000000  0.000000  0.000000   \n",
       "8  16230722  0.000000  0.010479  0.004294  0.000000  0.000000  0.000000   \n",
       "9   3542527  0.000000  0.000000  0.027970  0.000000  0.000000  0.000000   \n",
       "\n",
       "   feature6  feature7  feature8     ...      feature490  feature491  \\\n",
       "0  0.067702  0.017555  0.098402     ...             0.0         0.0   \n",
       "1  0.000000  0.000000  0.030926     ...             0.0         0.0   \n",
       "2  0.000000  0.000000  0.044636     ...             0.0         0.0   \n",
       "3  0.000000  0.000000  0.000000     ...             0.0         0.0   \n",
       "4  0.000000  0.000000  0.080179     ...             0.0         0.0   \n",
       "5  0.000000  0.005201  0.000000     ...             0.0         0.0   \n",
       "6  0.000000  0.011114  0.000000     ...             0.0         0.0   \n",
       "7  0.000000  0.000000  0.000000     ...             0.0         0.0   \n",
       "8  0.000000  0.004273  0.000000     ...             0.0         0.0   \n",
       "9  0.000000  0.013917  0.000000     ...             0.0         0.0   \n",
       "\n",
       "   feature492  feature493  feature494  feature495  feature496  feature497  \\\n",
       "0         0.0         0.0         0.0         0.0         0.0         0.0   \n",
       "1         0.0         0.0         0.0         0.0         0.0         0.0   \n",
       "2         0.0         0.0         0.0         0.0         0.0         0.0   \n",
       "3         0.0         0.0         0.0         0.0         0.0         0.0   \n",
       "4         0.0         0.0         0.0         0.0         0.0         0.0   \n",
       "5         0.0         0.0         0.0         0.0         0.0         0.0   \n",
       "6         0.0         0.0         0.0         0.0         0.0         0.0   \n",
       "7         0.0         0.0         0.0         0.0         0.0         0.0   \n",
       "8         0.0         0.0         0.0         0.0         0.0         0.0   \n",
       "9         0.0         0.0         0.0         0.0         0.0         0.0   \n",
       "\n",
       "   feature498  feature499  \n",
       "0         0.0         0.0  \n",
       "1         0.0         0.0  \n",
       "2         0.0         0.0  \n",
       "3         0.0         0.0  \n",
       "4         0.0         0.0  \n",
       "5         0.0         0.0  \n",
       "6         0.0         0.0  \n",
       "7         0.0         0.0  \n",
       "8         0.0         0.0  \n",
       "9         0.0         0.0  \n",
       "\n",
       "[10 rows x 501 columns]"
      ]
     },
     "execution_count": 31,
     "metadata": {},
     "output_type": "execute_result"
    }
   ],
   "source": [
    "node_features.head(10)"
   ]
  },
  {
   "cell_type": "code",
   "execution_count": 32,
   "metadata": {},
   "outputs": [
    {
     "data": {
      "text/html": [
       "<div>\n",
       "<style>\n",
       "    .dataframe thead tr:only-child th {\n",
       "        text-align: right;\n",
       "    }\n",
       "\n",
       "    .dataframe thead th {\n",
       "        text-align: left;\n",
       "    }\n",
       "\n",
       "    .dataframe tbody tr th {\n",
       "        vertical-align: top;\n",
       "    }\n",
       "</style>\n",
       "<table border=\"1\" class=\"dataframe\">\n",
       "  <thead>\n",
       "    <tr style=\"text-align: right;\">\n",
       "      <th></th>\n",
       "      <th>0</th>\n",
       "      <th>1</th>\n",
       "    </tr>\n",
       "  </thead>\n",
       "  <tbody>\n",
       "    <tr>\n",
       "      <th>0</th>\n",
       "      <td>19127292</td>\n",
       "      <td>17363749</td>\n",
       "    </tr>\n",
       "    <tr>\n",
       "      <th>1</th>\n",
       "      <td>19668377</td>\n",
       "      <td>17293876</td>\n",
       "    </tr>\n",
       "    <tr>\n",
       "      <th>2</th>\n",
       "      <td>1313726</td>\n",
       "      <td>3002783</td>\n",
       "    </tr>\n",
       "    <tr>\n",
       "      <th>3</th>\n",
       "      <td>19110882</td>\n",
       "      <td>14578298</td>\n",
       "    </tr>\n",
       "    <tr>\n",
       "      <th>4</th>\n",
       "      <td>18606979</td>\n",
       "      <td>10333910</td>\n",
       "    </tr>\n",
       "  </tbody>\n",
       "</table>\n",
       "</div>"
      ],
      "text/plain": [
       "          0         1\n",
       "0  19127292  17363749\n",
       "1  19668377  17293876\n",
       "2   1313726   3002783\n",
       "3  19110882  14578298\n",
       "4  18606979  10333910"
      ]
     },
     "execution_count": 32,
     "metadata": {},
     "output_type": "execute_result"
    }
   ],
   "source": [
    "edge_list = pd.DataFrame(edges)\n",
    "edge_list.head()"
   ]
  },
  {
   "cell_type": "code",
   "execution_count": 33,
   "metadata": {},
   "outputs": [
    {
     "name": "stdout",
     "output_type": "stream",
     "text": [
      "Name: \n",
      "Type: Graph\n",
      "Number of nodes: 19717\n",
      "Number of edges: 44327\n",
      "Average degree:   4.4963\n"
     ]
    }
   ],
   "source": [
    "G = nx.from_pandas_edgelist(edge_list, source=0, target=1)\n",
    "print(nx.info(G))"
   ]
  },
  {
   "cell_type": "code",
   "execution_count": 70,
   "metadata": {
    "collapsed": true
   },
   "outputs": [],
   "source": [
    "def random_seed(g):\n",
    "    \"\"\"this function returns a single node from g, it's chosen with uniform probability\"\"\"\n",
    "#     ux = randint(0, g.number_of_nodes(), 1)\n",
    "    ux = np.random.choice(list(g.nodes()), 3, replace=False)\n",
    "    return ux\n",
    "\n",
    "def snowball_sampling(g, seed, maxsize=50):\n",
    "    \"\"\"this function returns a set of nodes equal to maxsize from g that are \n",
    "    collected from around seed node via snownball sampling\"\"\"\n",
    "    if g.number_of_nodes() < maxsize:\n",
    "        return set()\n",
    "    print 'seed:', seed\n",
    "    q = list(seed)\n",
    "    subgraph = set(q)\n",
    "    while q:\n",
    "        top = q[0]\n",
    "        q.remove(top)\n",
    "        for node in g.neighbors(top):\n",
    "            if len(subgraph) == maxsize:\n",
    "                return subgraph\n",
    "\n",
    "            q.append(node)\n",
    "            subgraph.add(node)\n",
    "                \n",
    "    return subgraph"
   ]
  },
  {
   "cell_type": "code",
   "execution_count": 112,
   "metadata": {},
   "outputs": [
    {
     "name": "stdout",
     "output_type": "stream",
     "text": [
      "seed: [ 8986914 16949517 12410189]\n",
      "Name: \n",
      "Type: SubGraph\n",
      "Number of nodes: 4000\n",
      "Number of edges: 8654\n",
      "Average degree:   4.3270\n",
      "denisty: 0.00108202050513\n",
      "components: 1\n",
      "clustering coeff: 0.0994155480539\n"
     ]
    }
   ],
   "source": [
    "rs = random_seed(G)\n",
    "nodes = snowball_sampling(G, rs, maxsize=4000)\n",
    "GS = G.subgraph(nodes)\n",
    "print(nx.info(GS))\n",
    "print 'denisty:', nx.density(GS)\n",
    "print 'components:', nx.number_connected_components(GS)\n",
    "print 'clustering coeff:', nx.average_clustering(GS)"
   ]
  },
  {
   "cell_type": "code",
   "execution_count": 34,
   "metadata": {},
   "outputs": [
    {
     "data": {
      "text/html": [
       "<div>\n",
       "<style>\n",
       "    .dataframe thead tr:only-child th {\n",
       "        text-align: right;\n",
       "    }\n",
       "\n",
       "    .dataframe thead th {\n",
       "        text-align: left;\n",
       "    }\n",
       "\n",
       "    .dataframe tbody tr th {\n",
       "        vertical-align: top;\n",
       "    }\n",
       "</style>\n",
       "<table border=\"1\" class=\"dataframe\">\n",
       "  <thead>\n",
       "    <tr style=\"text-align: right;\">\n",
       "      <th></th>\n",
       "      <th>source</th>\n",
       "      <th>target</th>\n",
       "    </tr>\n",
       "  </thead>\n",
       "  <tbody>\n",
       "    <tr>\n",
       "      <th>0</th>\n",
       "      <td>8617984</td>\n",
       "      <td>10403912</td>\n",
       "    </tr>\n",
       "    <tr>\n",
       "      <th>1</th>\n",
       "      <td>8617984</td>\n",
       "      <td>14678267</td>\n",
       "    </tr>\n",
       "    <tr>\n",
       "      <th>2</th>\n",
       "      <td>8617984</td>\n",
       "      <td>17286757</td>\n",
       "    </tr>\n",
       "    <tr>\n",
       "      <th>3</th>\n",
       "      <td>8617984</td>\n",
       "      <td>15498046</td>\n",
       "    </tr>\n",
       "    <tr>\n",
       "      <th>4</th>\n",
       "      <td>8617984</td>\n",
       "      <td>17956579</td>\n",
       "    </tr>\n",
       "    <tr>\n",
       "      <th>5</th>\n",
       "      <td>16385830</td>\n",
       "      <td>18178393</td>\n",
       "    </tr>\n",
       "    <tr>\n",
       "      <th>6</th>\n",
       "      <td>11272194</td>\n",
       "      <td>18483609</td>\n",
       "    </tr>\n",
       "    <tr>\n",
       "      <th>7</th>\n",
       "      <td>11272194</td>\n",
       "      <td>16710474</td>\n",
       "    </tr>\n",
       "    <tr>\n",
       "      <th>8</th>\n",
       "      <td>11272194</td>\n",
       "      <td>16537919</td>\n",
       "    </tr>\n",
       "    <tr>\n",
       "      <th>9</th>\n",
       "      <td>7438339</td>\n",
       "      <td>11790818</td>\n",
       "    </tr>\n",
       "  </tbody>\n",
       "</table>\n",
       "</div>"
      ],
      "text/plain": [
       "     source    target\n",
       "0   8617984  10403912\n",
       "1   8617984  14678267\n",
       "2   8617984  17286757\n",
       "3   8617984  15498046\n",
       "4   8617984  17956579\n",
       "5  16385830  18178393\n",
       "6  11272194  18483609\n",
       "7  11272194  16710474\n",
       "8  11272194  16537919\n",
       "9   7438339  11790818"
      ]
     },
     "execution_count": 34,
     "metadata": {},
     "output_type": "execute_result"
    }
   ],
   "source": [
    "gs_edges = nx.to_pandas_edgelist(G)\n",
    "gs_edges.head(10)"
   ]
  },
  {
   "cell_type": "code",
   "execution_count": 35,
   "metadata": {},
   "outputs": [
    {
     "name": "stdout",
     "output_type": "stream",
     "text": [
      "(19717, 501) (19717, 2)\n"
     ]
    }
   ],
   "source": [
    "in_source = node_features['node'].isin(gs_edges['source'])\n",
    "in_target = node_features['node'].isin(gs_edges['target'])\n",
    "gs_features = node_features[in_source | in_target]\n",
    "gs_nodes = node_label[in_source | in_target]\n",
    "print gs_features.shape, gs_nodes.shape"
   ]
  },
  {
   "cell_type": "code",
   "execution_count": 36,
   "metadata": {},
   "outputs": [
    {
     "name": "stdout",
     "output_type": "stream",
     "text": [
      "(4103, 2)\n",
      "(7875, 2)\n",
      "(7739, 2)\n"
     ]
    }
   ],
   "source": [
    "print gs_nodes[gs_nodes['label'] == '1'].shape\n",
    "print gs_nodes[gs_nodes['label'] == '2'].shape\n",
    "print gs_nodes[gs_nodes['label'] == '3'].shape"
   ]
  },
  {
   "cell_type": "code",
   "execution_count": 37,
   "metadata": {
    "collapsed": true
   },
   "outputs": [],
   "source": [
    "gs_nodes.to_csv('../data/pubmed/nodes.csv', header=None, index=None)\n",
    "gs_edges.to_csv('../data/pubmed/edges.csv', header=None, index=None)\n",
    "gs_features.to_csv('../data/pubmed/features.csv', header=None, index=None)"
   ]
  }
 ],
 "metadata": {
  "kernelspec": {
   "display_name": "Python (sgc)",
   "language": "python",
   "name": "sgc"
  },
  "language_info": {
   "codemirror_mode": {
    "name": "ipython",
    "version": 3
   },
   "file_extension": ".py",
   "mimetype": "text/x-python",
   "name": "python",
   "nbconvert_exporter": "python",
   "pygments_lexer": "ipython3",
   "version": "3.6.7"
  }
 },
 "nbformat": 4,
 "nbformat_minor": 2
}
